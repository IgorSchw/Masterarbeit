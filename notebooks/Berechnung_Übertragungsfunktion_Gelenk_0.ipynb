{
 "cells": [
  {
   "cell_type": "markdown",
   "id": "900a4d34",
   "metadata": {},
   "source": [
    "Packages laden"
   ]
  },
  {
   "cell_type": "code",
   "execution_count": null,
   "id": "e0caf141",
   "metadata": {},
   "outputs": [],
   "source": [
    "import numpy as np\n",
    "from scipy.optimize import curve_fit, differential_evolution\n",
    "import matplotlib.pyplot as plt\n",
    "import csv\n",
    "import math"
   ]
  },
  {
   "cell_type": "markdown",
   "id": "44cb6060",
   "metadata": {},
   "source": [
    "Messwerte einlesen"
   ]
  },
  {
   "cell_type": "code",
   "execution_count": null,
   "id": "9e648081",
   "metadata": {},
   "outputs": [],
   "source": []
  }
 ],
 "metadata": {
  "kernelspec": {
   "display_name": "Python 3",
   "language": "python",
   "name": "python3"
  },
  "language_info": {
   "name": "python",
   "version": "3.11.9"
  }
 },
 "nbformat": 4,
 "nbformat_minor": 5
}
