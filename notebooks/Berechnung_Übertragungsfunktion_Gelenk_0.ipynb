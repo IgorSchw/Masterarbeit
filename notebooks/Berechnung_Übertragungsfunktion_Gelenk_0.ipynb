{
 "cells": [
  {
   "cell_type": "markdown",
   "id": "900a4d34",
   "metadata": {},
   "source": [
    "Packages laden"
   ]
  },
  {
   "cell_type": "code",
   "execution_count": 1,
   "id": "e0caf141",
   "metadata": {},
   "outputs": [],
   "source": [
    "import numpy as np\n",
    "from scipy.optimize import curve_fit, differential_evolution\n",
    "import matplotlib.pyplot as plt\n",
    "from matplotlib import rcParams\n",
    "import pandas as pd"
   ]
  },
  {
   "cell_type": "markdown",
   "id": "5b53d7a4",
   "metadata": {},
   "source": [
    "Funktionen für die Durchführung der Optimierung und Plotparameter definieren"
   ]
  },
  {
   "cell_type": "code",
   "execution_count": null,
   "id": "e9f8cd42",
   "metadata": {},
   "outputs": [],
   "source": [
    "# Definieren des Modells (Kosinussatz)\n",
    "def model(c2, a, b, c1, gamma0):\n",
    "    cos_arg = (a**2 + b**2 - (c1 + c2)**2) / (2 * a * b)\n",
    "    # Begrenze cos_arg auf den Bereich [-1, 1], um Fehler bei arccos zu vermeiden\n",
    "    cos_arg = np.clip(cos_arg, -1, 1)\n",
    "    gamma = np.arccos(cos_arg) + gamma0\n",
    "    return gamma\n",
    "\n",
    "# Fehlerfunktion definieren\n",
    "def error_function(params, c2_data, gamma_data):\n",
    "    return np.sum((model(c2_data, *params) - gamma_data) ** 2)\n",
    "\n",
    "# Schriftart und Layout einstellen\n",
    "rcParams.update({\n",
    "    \"text.usetex\": True,  # Damit LaTeX-Schrift verwendet wird\n",
    "    \"font.family\": \"sans-serif\",\n",
    "    \"font.sans-serif\": [\"Latin Modern Sans\"],\n",
    "    \"font.size\": 10,      # Schöne Standardgröße\n",
    "    \"figure.dpi\": 300,\n",
    "    \"figure.figsize\": (6.0, 4.0),  # ca. 15cm breit -> perfekte Breite für A4-Seite in LaTeX\n",
    "    \"savefig.bbox\": \"tight\"        # Speichert das Bild ohne überflüssigen Rand\n",
    "})"
   ]
  },
  {
   "cell_type": "markdown",
   "id": "44cb6060",
   "metadata": {},
   "source": [
    "Messwerte einlesen"
   ]
  },
  {
   "cell_type": "code",
   "execution_count": 3,
   "id": "9e648081",
   "metadata": {},
   "outputs": [],
   "source": [
    "points = pd.read_csv('../data/Messpunkte_Übertragungsfunktion_Gelenk_0.csv',sep=';')\n",
    "circle_center = [811.769, -643.152,  1164.023]\n",
    "points_centered = points[['x', 'y', 'z']].values - circle_center\n",
    "point_zero = points_centered[0]"
   ]
  },
  {
   "cell_type": "markdown",
   "id": "4892d389",
   "metadata": {},
   "source": [
    "Berechnung der Winkel zwischen den Messpunkten und Berechnung von C2"
   ]
  },
  {
   "cell_type": "code",
   "execution_count": 4,
   "id": "47b4651f",
   "metadata": {},
   "outputs": [],
   "source": [
    "\n",
    "# Punktweises Skalarprodukt\n",
    "dot_products = np.sum(points_centered[1:,:] * point_zero, axis=1)\n",
    "\n",
    "# Normen berechnen\n",
    "norms_points = np.linalg.norm(points_centered[1:,:], axis=1)\n",
    "norm_point_zero = np.linalg.norm(point_zero)\n",
    "\n",
    "# Winkel berechnen\n",
    "angles = np.arccos(dot_products / (norms_points * norm_point_zero))\n",
    "\n",
    "# Encoderwerte und Winkel in DataFrame speichern\n",
    "df_angles_encoder = pd.DataFrame(columns=['angle', 'encoder'])\n",
    "df_angles_encoder['angle'] = angles\n",
    "df_angles_encoder.iloc[0:,1] = points.iloc[1:,4]\n",
    "df_angles_encoder['angle'] = np.where(\n",
    "    df_angles_encoder['encoder'] < 2503,\n",
    "    df_angles_encoder['angle'] * -1,\n",
    "    df_angles_encoder['angle']\n",
    ")\n",
    "df_angles_encoder['encoder'] = df_angles_encoder['encoder']/10000\n",
    "\n",
    "# Konvertiere des Dataframes in zwei numpy Arrays\n",
    "gamma_list = df_angles_encoder['angle'].tolist()\n",
    "c2_list = df_angles_encoder['encoder'].tolist()\n",
    "# Konvertiere die Listen in numpy Arrays\n",
    "gamma_data = np.array(gamma_list)\n",
    "c2_data = np.array(c2_list)"
   ]
  },
  {
   "cell_type": "markdown",
   "id": "b1190cc7",
   "metadata": {},
   "source": [
    "Ermittlung der Initialwerte durch globale Optimierung"
   ]
  },
  {
   "cell_type": "code",
   "execution_count": 5,
   "id": "2a5031f4",
   "metadata": {},
   "outputs": [],
   "source": [
    "# Festlegung der Grenzen für die unterschiedlichen Parameter\n",
    "bounds = [\n",
    "    (0, 3),  # a\n",
    "    (0, 3),  # b\n",
    "    (0, 3),  # c1\n",
    "    (-10, 10)  # gamma0\n",
    "]\n",
    "\n",
    "# Globale Optimierung durchführen\n",
    "result = differential_evolution(\n",
    "    error_function,\n",
    "    bounds,\n",
    "    args=(c2_data, gamma_data),\n",
    "    maxiter=1000000  # Höhere Anzahl von Iterationen für bessere Präzision\n",
    ")\n",
    "\n",
    "\n",
    "a_est, b_est, c1_est, gamma0_est = result.x\n",
    "\n",
    "# Anfangsschätzungen für die Parameter (anpassen falls nötig)\n",
    "initial_guess = [a_est, b_est, c1_est, gamma0_est]  # [a, b, c1, gamma0]\n"
   ]
  },
  {
   "cell_type": "markdown",
   "id": "17766279",
   "metadata": {},
   "source": [
    "Lokale Optimierung mit Hilfe der Winkel- und Encoderwerte"
   ]
  },
  {
   "cell_type": "code",
   "execution_count": 6,
   "id": "e0bf4f25",
   "metadata": {},
   "outputs": [
    {
     "name": "stdout",
     "output_type": "stream",
     "text": [
      "Geschätzte Parameter:\n",
      "a = 0.24500503065987772\n",
      "b = 0.7870930379036711\n",
      "c1 = 0.5418426905233961\n",
      "γ0 = -1.4353144860992972\n",
      "\n",
      "Fehlermaße:\n",
      "RMSE (Root Mean Squared Error): 0.0001900729491947611\n"
     ]
    }
   ],
   "source": [
    "# Ermittlung der Parameter mit curve_fit\n",
    "# Verwende die Schätzungen aus der globalen Optimierung als Startwerte\n",
    "params, covariance = curve_fit(\n",
    "    model,\n",
    "    c2_data,\n",
    "    gamma_data,\n",
    "    p0=initial_guess,\n",
    "    method='trf',  # 'trf' unterstützt bounds\n",
    "    max_nfev=1000000,  # Erhöhen der maximalen Funktionsauswertungen\n",
    "    ftol=1e-15,     # Toleranzen für höhere Präzision\n",
    "    xtol=1e-15,\n",
    "    gtol=1e-15\n",
    ")\n",
    "\n",
    "# # Extrahiere die geschätzten Parameter\n",
    "a_est, b_est, c1_est, gamma0_est = params\n",
    "\n",
    "# Berechne die Modellvorhersagen\n",
    "gamma_pred = model(c2_data, *params)\n",
    "\n",
    "# Berechne die Residuen\n",
    "residuals = gamma_data - gamma_pred\n",
    "\n",
    "# Fehlermaße berechnen\n",
    "MSE = np.mean(residuals**2)  # Mean Squared Error\n",
    "RMSE = np.sqrt(MSE)  # Root Mean Squared Error\n",
    "\n",
    "# Gib die Ergebnisse aus\n",
    "print(\"Geschätzte Parameter:\")\n",
    "print(f\"a = {a_est}\")\n",
    "print(f\"b = {b_est}\")\n",
    "print(f\"c1 = {c1_est}\")\n",
    "print(f\"γ0 = {gamma0_est}\\n\")\n",
    "print(\"Fehlermaße:\")\n",
    "print(f\"RMSE (Root Mean Squared Error): {RMSE}\")"
   ]
  },
  {
   "cell_type": "markdown",
   "id": "092d5575",
   "metadata": {},
   "source": [
    "Plotten des Fits und der Residuen jedes Messpunktes"
   ]
  },
  {
   "cell_type": "code",
   "execution_count": 7,
   "id": "cea335b9",
   "metadata": {},
   "outputs": [],
   "source": [
    "\n",
    "# Erster Plot: Messdaten und Modell\n",
    "plt.figure()\n",
    "plt.scatter(c2_data, np.rad2deg(gamma_data), label='Messdaten')\n",
    "c2_fit = np.linspace(min(c2_data), max(c2_data), 1000)\n",
    "gamma_fit = model(c2_fit, *params)\n",
    "plt.plot(c2_fit, np.rad2deg(gamma_fit), 'r-', label='Angepasstes Modell')\n",
    "plt.xlabel(r'$c_2$ in m')\n",
    "plt.ylabel(r'Winkel $\\gamma$ in $^\\circ$')\n",
    "plt.legend()\n",
    "plt.savefig('../results/Diagramme/Übertragungsfunktion_Gelenk_0_Plot.pdf')  # <<< PDF speichern\n",
    "plt.close()\n",
    "\n",
    "# Zweiter Plot: Residuen\n",
    "plt.figure()\n",
    "plt.scatter(c2_data, np.rad2deg(residuals))\n",
    "plt.axhline(0, color='red', linestyle='--')\n",
    "plt.xlabel(r'$c_2$ in m')\n",
    "plt.ylabel('Residuen in $^\\circ$')\n",
    "plt.savefig('../results/Diagramme/Residuen_Plot_Übertragungsfunktion_Gelenk_0.pdf')  # <<< PDF speichern\n",
    "plt.close()"
   ]
  }
 ],
 "metadata": {
  "kernelspec": {
   "display_name": "Python 3",
   "language": "python",
   "name": "python3"
  },
  "language_info": {
   "codemirror_mode": {
    "name": "ipython",
    "version": 3
   },
   "file_extension": ".py",
   "mimetype": "text/x-python",
   "name": "python",
   "nbconvert_exporter": "python",
   "pygments_lexer": "ipython3",
   "version": "3.11.9"
  }
 },
 "nbformat": 4,
 "nbformat_minor": 5
}
