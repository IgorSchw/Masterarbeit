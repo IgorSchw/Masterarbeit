{
 "cells": [
  {
   "cell_type": "markdown",
   "id": "2d73f874",
   "metadata": {},
   "source": [
    "Packages importieren und Plotformatierung definieren"
   ]
  },
  {
   "cell_type": "code",
   "execution_count": 46,
   "id": "293cae07",
   "metadata": {},
   "outputs": [],
   "source": [
    "import pandas as pd\n",
    "import numpy as np\n",
    "import matplotlib.pyplot as plt\n",
    "from matplotlib import rcParams\n",
    "\n",
    "# Schriftart und Layout einstellen\n",
    "rcParams.update({\n",
    "    \"text.usetex\": True,  # Damit LaTeX-Schrift verwendet wird\n",
    "    \"font.family\": \"sans-serif\",\n",
    "    \"font.sans-serif\": [\"Latin Modern Sans\"],\n",
    "    \"font.size\": 10,      # Schöne Standardgröße\n",
    "    \"figure.dpi\": 300,\n",
    "    \"figure.figsize\": (6.0, 4.0),  # ca. 15cm breit -> perfekte Breite für A4-Seite in LaTeX\n",
    "    \"savefig.bbox\": \"tight\"        # Speichert das Bild ohne überflüssigen Rand\n",
    "})"
   ]
  },
  {
   "cell_type": "markdown",
   "id": "bdb0d02d",
   "metadata": {},
   "source": [
    "Daten einlesen"
   ]
  },
  {
   "cell_type": "code",
   "execution_count": 47,
   "id": "bd5f7b6e",
   "metadata": {},
   "outputs": [],
   "source": [
    "# Pfade zu den CSV-Dateien\n",
    "pfad_lasertracker = '../data/Validierung_Kinematikmodell_Lasertracker_Messwerte.csv'\n",
    "pfad_totalstation = '../data/Validierung_Kinematikmodell_Totalstation_Messwerte.csv'\n",
    "pfad_modell = '../data/Validierung_Kinematikmodell_Modell_Messwerte.csv'\n",
    "\n",
    "# CSV-Dateien laden\n",
    "lasertracker = pd.read_csv(pfad_lasertracker, sep=';')\n",
    "totalstation = pd.read_csv(pfad_totalstation, sep=';')\n",
    "modell = pd.read_csv(pfad_modell, sep=';')"
   ]
  },
  {
   "cell_type": "markdown",
   "id": "dbe4744f",
   "metadata": {},
   "source": [
    "Vorbereitung der Daten"
   ]
  },
  {
   "cell_type": "code",
   "execution_count": 48,
   "id": "8b541fd1",
   "metadata": {},
   "outputs": [],
   "source": [
    "# Punkte 7 und 8 bei Totalstation ausschließen (Index 6 und 7)\n",
    "lasertracker_clean = lasertracker.drop(index=[6,7]).reset_index(drop=True)\n",
    "\n",
    "# Sicherstellen, dass die Punktanzahl übereinstimmt\n",
    "assert len(totalstation) == len(lasertracker_clean), \"Mismatch in Punktanzahl nach Bereinigung!\""
   ]
  },
  {
   "cell_type": "markdown",
   "id": "b415a7b9",
   "metadata": {},
   "source": [
    "Vergleich: Totalstation vs. Lasertracker"
   ]
  },
  {
   "cell_type": "code",
   "execution_count": 49,
   "id": "f34d8763",
   "metadata": {},
   "outputs": [
    {
     "name": "stdout",
     "output_type": "stream",
     "text": [
      "\n",
      "Abweichungen Totalstation vs. Lasertracker:\n",
      "      Punktmessung            x            y            z   Delta_X   Delta_Y  \\\n",
      "0   03_12_24_P1_TS  1532.040755  5408.973189  3543.488982 -0.675869 -1.538216   \n",
      "1   03_12_24_P2_TS  1339.284682  5496.654019  3492.428544 -0.108422 -0.382326   \n",
      "2   03_12_24_P3_TS  2751.674073  5075.447479  3786.758731 -3.269814 -3.334296   \n",
      "3   03_12_24_P4_TS   388.699434  5584.745064  3269.182821  0.063279 -1.184749   \n",
      "4   03_12_24_P5_TS   628.708101  5794.310632  2246.350913 -0.462895 -0.793620   \n",
      "5   03_12_24_P6_TS  1737.904865  5682.973083  2499.529679 -0.380788 -0.894678   \n",
      "6   03_12_24_P9_TS  1804.356428  5755.572925  1660.380435  0.007748 -0.037275   \n",
      "7  03_12_24_P10_TS   641.715108  5850.310387  1391.166812  0.122196  1.462633   \n",
      "\n",
      "    Delta_Z  Delta_Norm  \n",
      "0 -0.252830    1.699068  \n",
      "1 -1.675171    1.721664  \n",
      "2 -2.187768    5.157087  \n",
      "3 -0.479369    1.279621  \n",
      "4 -0.570849    1.081653  \n",
      "5 -0.501926    1.094248  \n",
      "6 -0.081599    0.090044  \n",
      "7 -0.214959    1.483386  \n"
     ]
    }
   ],
   "source": [
    "# Delta berechnen\n",
    "delta_total_vs_laser = totalstation[['x', 'y', 'z']] - lasertracker_clean[['x', 'y', 'z']]\n",
    "\n",
    "# Norm der Deltas berechnen (Euklidische Distanz)\n",
    "norm_total_vs_laser = np.linalg.norm(delta_total_vs_laser, axis=1)\n",
    "\n",
    "# Ergebnisse zusammenfassen\n",
    "ergebnisse_total_vs_laser = totalstation.copy()\n",
    "ergebnisse_total_vs_laser[['Delta_X', 'Delta_Y', 'Delta_Z']] = delta_total_vs_laser\n",
    "ergebnisse_total_vs_laser['Delta_Norm'] = norm_total_vs_laser\n",
    "\n",
    "print(\"\\nAbweichungen Totalstation vs. Lasertracker:\")\n",
    "print(ergebnisse_total_vs_laser)\n"
   ]
  },
  {
   "cell_type": "markdown",
   "id": "9e4ad2fe",
   "metadata": {},
   "source": [
    "Plot: Deltas Totalstation vs. Lasertracker"
   ]
  },
  {
   "cell_type": "code",
   "execution_count": null,
   "id": "db0003a6",
   "metadata": {},
   "outputs": [],
   "source": [
    "plt.figure()\n",
    "plt.plot(norm_total_vs_laser, marker='o')\n",
    "plt.xlabel('Punkt Index')\n",
    "plt.ylabel('Abweichung in mm')\n",
    "plt.grid(True)\n",
    "plt.savefig('../results/Diagramme/Norm_Deltas_Totalstation_Lasertracker.pdf')  # <<< PDF speichern\n",
    "plt.close()"
   ]
  },
  {
   "cell_type": "markdown",
   "id": "033e40b5",
   "metadata": {},
   "source": [
    "Vergleich: Lasertracker vs. Kinematikmodell "
   ]
  },
  {
   "cell_type": "code",
   "execution_count": 51,
   "id": "a53ca465",
   "metadata": {},
   "outputs": [
    {
     "name": "stdout",
     "output_type": "stream",
     "text": [
      "\n",
      "Abweichungen Lasertracker vs. Modell:\n",
      "      Punktmessung            x            y            z    Delta_X  \\\n",
      "0   03_12_24_P1_LT  1532.716624  5410.511405  3543.741812 -31.085111   \n",
      "1   03_12_24_P2_LT  1339.393104  5497.036345  3494.103715 -28.988525   \n",
      "2   03_12_24_P3_LT  2754.943887  5078.781775  3788.946499 -29.728791   \n",
      "3   03_12_24_P4_LT   388.636155  5585.929813  3269.662190 -27.220712   \n",
      "4   03_12_24_P5_LT   629.170996  5795.104252  2246.921762 -25.358094   \n",
      "5   03_12_24_P6_LT  1738.285653  5683.867761  2500.031605 -30.060421   \n",
      "6   03_12_24_P7_LT  2942.652913  5324.573880  2753.254821 -28.147248   \n",
      "7   03_12_24_P8_LT  2835.757549  5476.531612  1884.367133 -31.916091   \n",
      "8   03_12_24_P9_LT  1804.348680  5755.610200  1660.462034 -30.184095   \n",
      "9  03_12_24_P10_LT   641.592912  5848.847754  1391.381771 -26.904831   \n",
      "\n",
      "     Delta_Y    Delta_Z  Delta_Norm  \n",
      "0   7.412037 -12.183125   34.200160  \n",
      "1   9.178275 -23.113136   38.194141  \n",
      "2  17.021829 -20.721759   40.036670  \n",
      "3   3.678120 -22.435484   35.466134  \n",
      "4   0.920480 -23.727125   34.739843  \n",
      "5   7.310093 -24.543029   39.489576  \n",
      "6  13.135478 -23.029569   38.667420  \n",
      "7   5.816371 -22.477061   39.467522  \n",
      "8   2.410540 -24.386168   38.878985  \n",
      "9  -4.776311 -23.542595   36.068502  \n"
     ]
    }
   ],
   "source": [
    "# Delta berechnen\n",
    "delta_laser_vs_modell = lasertracker[['x', 'y', 'z']] - modell[['x', 'y', 'z']]\n",
    "\n",
    "# Norm der Deltas berechnen\n",
    "norm_laser_vs_modell = np.linalg.norm(delta_laser_vs_modell, axis=1)\n",
    "\n",
    "# Ergebnisse zusammenfassen\n",
    "ergebnisse_laser_vs_modell = lasertracker.copy()\n",
    "ergebnisse_laser_vs_modell[['Delta_X', 'Delta_Y', 'Delta_Z']] = delta_laser_vs_modell\n",
    "ergebnisse_laser_vs_modell['Delta_Norm'] = norm_laser_vs_modell\n",
    "\n",
    "print(\"\\nAbweichungen Lasertracker vs. Modell:\")\n",
    "print(ergebnisse_laser_vs_modell)\n"
   ]
  },
  {
   "cell_type": "markdown",
   "id": "cfe01bb2",
   "metadata": {},
   "source": [
    "Plot: Deltas Lasertracker vs. Modell"
   ]
  },
  {
   "cell_type": "code",
   "execution_count": 52,
   "id": "854cf3cb",
   "metadata": {},
   "outputs": [],
   "source": [
    "plt.figure()\n",
    "plt.plot(norm_laser_vs_modell, marker='o')\n",
    "plt.xlabel('Punkt Index')\n",
    "plt.ylabel('Abweichung in mm')\n",
    "plt.grid(True)\n",
    "plt.savefig('../results/Diagramme/Norm_Deltas_Lasertracker_Modell.pdf')  # <<< PDF speichern\n",
    "plt.close()\n"
   ]
  },
  {
   "cell_type": "markdown",
   "id": "e130b41b",
   "metadata": {},
   "source": [
    "Statistische Interpretation der Messreihen"
   ]
  },
  {
   "cell_type": "code",
   "execution_count": 53,
   "id": "f4f0b586",
   "metadata": {},
   "outputs": [
    {
     "name": "stdout",
     "output_type": "stream",
     "text": [
      "\n",
      "Statistik Totalstation vs. Lasertracker:\n",
      "count    8.000000\n",
      "mean     1.700846\n",
      "std      1.488854\n",
      "min      0.090044\n",
      "25%      1.091099\n",
      "50%      1.381503\n",
      "75%      1.704717\n",
      "max      5.157087\n",
      "Name: Delta_Norm, dtype: float64\n",
      "\n",
      "Statistik Lasertracker vs. Modell:\n",
      "count    10.000000\n",
      "mean     37.520895\n",
      "std       2.178159\n",
      "min      34.200160\n",
      "25%      35.616726\n",
      "50%      38.430780\n",
      "75%      39.320388\n",
      "max      40.036670\n",
      "Name: Delta_Norm, dtype: float64\n"
     ]
    }
   ],
   "source": [
    "# Statistische Kennwerte wie Mittelwert, Standardabweichung...\n",
    "print(\"\\nStatistik Totalstation vs. Lasertracker:\")\n",
    "print(ergebnisse_total_vs_laser['Delta_Norm'].describe())\n",
    "\n",
    "print(\"\\nStatistik Lasertracker vs. Modell:\")\n",
    "print(ergebnisse_laser_vs_modell['Delta_Norm'].describe())\n"
   ]
  }
 ],
 "metadata": {
  "kernelspec": {
   "display_name": "Python 3",
   "language": "python",
   "name": "python3"
  },
  "language_info": {
   "codemirror_mode": {
    "name": "ipython",
    "version": 3
   },
   "file_extension": ".py",
   "mimetype": "text/x-python",
   "name": "python",
   "nbconvert_exporter": "python",
   "pygments_lexer": "ipython3",
   "version": "3.11.9"
  }
 },
 "nbformat": 4,
 "nbformat_minor": 5
}
