{
 "cells": [
  {
   "cell_type": "markdown",
   "id": "2d73f874",
   "metadata": {},
   "source": [
    "Packages importieren"
   ]
  },
  {
   "cell_type": "code",
   "execution_count": null,
   "id": "293cae07",
   "metadata": {},
   "outputs": [],
   "source": [
    "import pandas as pd\n",
    "import numpy as np\n",
    "import matplotlib.pyplot as plt"
   ]
  },
  {
   "cell_type": "markdown",
   "id": "bdb0d02d",
   "metadata": {},
   "source": [
    "Daten einlesen"
   ]
  },
  {
   "cell_type": "code",
   "execution_count": null,
   "id": "bd5f7b6e",
   "metadata": {},
   "outputs": [],
   "source": [
    "# Pfade zu den CSV-Dateien\n",
    "pfad_lasertracker = '../data/Validierung_Kinematikmodell_Lasertracker_Messwerte.csv'\n",
    "pfad_totalstation = '../data/Validierung_Kinematikmodell_Totalstation_Messwerte.csv'\n",
    "pfad_modell = '../data/Validierung_Kinematikmodell_Modell_Messwerte.csv'\n",
    "\n",
    "# CSV-Dateien laden\n",
    "lasertracker = pd.read_csv(pfad_lasertracker)\n",
    "totalstation = pd.read_csv(pfad_totalstation)\n",
    "modell = pd.read_csv(pfad_modell)"
   ]
  },
  {
   "cell_type": "markdown",
   "id": "dbe4744f",
   "metadata": {},
   "source": [
    "Vorbereitung der Daten"
   ]
  },
  {
   "cell_type": "code",
   "execution_count": null,
   "id": "8b541fd1",
   "metadata": {},
   "outputs": [],
   "source": [
    "# Punkte 7 und 8 bei Totalstation ausschließen (Index 6 und 7)\n",
    "totalstation_clean = totalstation.drop(index=[6,7]).reset_index(drop=True)\n",
    "lasertracker_clean = lasertracker.drop(index=[6,7]).reset_index(drop=True)\n",
    "\n",
    "# Sicherstellen, dass die Punktanzahl übereinstimmt\n",
    "assert len(totalstation_clean) == len(lasertracker_clean), \"Mismatch in Punktanzahl nach Bereinigung!\""
   ]
  },
  {
   "cell_type": "markdown",
   "id": "b415a7b9",
   "metadata": {},
   "source": [
    "Vergleich: Totalstation vs. Lasertracker"
   ]
  },
  {
   "cell_type": "code",
   "execution_count": null,
   "id": "f34d8763",
   "metadata": {},
   "outputs": [],
   "source": [
    "# Delta berechnen\n",
    "delta_total_vs_laser = totalstation_clean[['X', 'Y', 'Z']] - lasertracker_clean[['X', 'Y', 'Z']]\n",
    "\n",
    "# Norm der Deltas berechnen (Euklidische Distanz)\n",
    "norm_total_vs_laser = np.linalg.norm(delta_total_vs_laser, axis=1)\n",
    "\n",
    "# Ergebnisse zusammenfassen\n",
    "ergebnisse_total_vs_laser = totalstation_clean.copy()\n",
    "ergebnisse_total_vs_laser[['Delta_X', 'Delta_Y', 'Delta_Z']] = delta_total_vs_laser\n",
    "ergebnisse_total_vs_laser['Delta_Norm'] = norm_total_vs_laser\n",
    "\n",
    "print(\"\\nAbweichungen Totalstation vs. Lasertracker:\")\n",
    "print(ergebnisse_total_vs_laser)\n"
   ]
  },
  {
   "cell_type": "markdown",
   "id": "9e4ad2fe",
   "metadata": {},
   "source": [
    "Plot: Deltas Totalstation vs. Lasertracker"
   ]
  },
  {
   "cell_type": "code",
   "execution_count": null,
   "id": "db0003a6",
   "metadata": {},
   "outputs": [],
   "source": [
    "plt.figure()\n",
    "plt.plot(norm_total_vs_laser, marker='o')\n",
    "plt.title('Norm der Deltas: Totalstation vs. Lasertracker')\n",
    "plt.xlabel('Punkt Index')\n",
    "plt.ylabel('Abweichung [mm]')\n",
    "plt.grid(True)\n",
    "plt.show()"
   ]
  },
  {
   "cell_type": "markdown",
   "id": "033e40b5",
   "metadata": {},
   "source": [
    "Vergleich: Lasertracker vs. Kinematikmodell "
   ]
  },
  {
   "cell_type": "code",
   "execution_count": null,
   "id": "a53ca465",
   "metadata": {},
   "outputs": [],
   "source": [
    "# Delta berechnen\n",
    "delta_laser_vs_modell = lasertracker[['X', 'Y', 'Z']] - modell[['X', 'Y', 'Z']]\n",
    "\n",
    "# Norm der Deltas berechnen\n",
    "norm_laser_vs_modell = np.linalg.norm(delta_laser_vs_modell, axis=1)\n",
    "\n",
    "# Ergebnisse zusammenfassen\n",
    "ergebnisse_laser_vs_modell = lasertracker.copy()\n",
    "ergebnisse_laser_vs_modell[['Delta_X', 'Delta_Y', 'Delta_Z']] = delta_laser_vs_modell\n",
    "ergebnisse_laser_vs_modell['Delta_Norm'] = norm_laser_vs_modell\n",
    "\n",
    "print(\"\\nAbweichungen Lasertracker vs. Modell:\")\n",
    "print(ergebnisse_laser_vs_modell)\n"
   ]
  },
  {
   "cell_type": "markdown",
   "id": "cfe01bb2",
   "metadata": {},
   "source": [
    "Plot: Deltas Lasertracker vs. Modell"
   ]
  },
  {
   "cell_type": "code",
   "execution_count": null,
   "id": "854cf3cb",
   "metadata": {},
   "outputs": [],
   "source": [
    "plt.figure()\n",
    "plt.plot(norm_laser_vs_modell, marker='x')\n",
    "plt.title('Norm der Deltas: Lasertracker vs. Modell')\n",
    "plt.xlabel('Punkt Index')\n",
    "plt.ylabel('Abweichung [mm]')\n",
    "plt.grid(True)\n",
    "plt.show()\n",
    "\n",
    "# === Interpretation ===\n",
    "# Hier könnte man noch statistische Kennwerte wie Mittelwert, Standardabweichung usw. ausgeben\n",
    "print(\"\\nStatistik Totalstation vs. Lasertracker:\")\n",
    "print(ergebnisse_total_vs_laser['Delta_Norm'].describe())\n",
    "\n",
    "print(\"\\nStatistik Lasertracker vs. Modell:\")\n",
    "print(ergebnisse_laser_vs_modell['Delta_Norm'].describe())\n"
   ]
  }
 ],
 "metadata": {
  "language_info": {
   "name": "python"
  }
 },
 "nbformat": 4,
 "nbformat_minor": 5
}
