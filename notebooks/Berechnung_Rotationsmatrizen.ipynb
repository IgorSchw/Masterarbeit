{
 "cells": [
  {
   "cell_type": "markdown",
   "id": "acef6a23",
   "metadata": {},
   "source": [
    "Laden der Packages"
   ]
  },
  {
   "cell_type": "code",
   "execution_count": 1,
   "id": "ef29f4da",
   "metadata": {},
   "outputs": [],
   "source": [
    "import numpy as np\n",
    "import pandas as pd\n",
    "from scipy.spatial.transform import Rotation as Rot"
   ]
  },
  {
   "cell_type": "markdown",
   "id": "063f98c8",
   "metadata": {},
   "source": [
    "Funktion zur Bestimmung der Eulerwinkel zwischen zwei Koordinatensystemen"
   ]
  },
  {
   "cell_type": "code",
   "execution_count": 2,
   "id": "b201b6e0",
   "metadata": {},
   "outputs": [],
   "source": [
    "# Funktion zur Berechnung der Euler-Winkel zwischen zwei Rotationsmatrizen\n",
    "def calculate_euler_angles(matrix1, matrix2, sequence=\"xyz\", degrees=True):\n",
    "    \"\"\"\n",
    "    Berechnet die Euler-Winkel zwischen zwei Rotationsmatrizen.\n",
    "    \n",
    "    :param matrix1: Erste Rotationsmatrix (3x3 NumPy-Array)\n",
    "    :param matrix2: Zweite Rotationsmatrix (3x3 NumPy-Array)\n",
    "    :param sequence: Rotationsachsenfolge für Euler-Winkel (z.B. \"xyz\", \"zyx\")\n",
    "    :param degrees: Gibt an, ob die Ergebnisse in Grad (True) oder Radiant (False) ausgegeben werden\n",
    "    :return: Euler-Winkel zwischen den Matrizen als NumPy-Array\n",
    "    \"\"\"\n",
    "    # Berechne die relative Rotationsmatrix\n",
    "    relative_matrix = np.dot(matrix1.T, matrix2)  # R_rel = R2 * R1^T\n",
    "    \n",
    "    # Wandle die Rotationsmatrix in Euler-Winkel um\n",
    "    rotation = Rot.from_matrix(relative_matrix)\n",
    "    euler_angles = rotation.as_euler(sequence, degrees=degrees)\n",
    "    \n",
    "    return euler_angles\n",
    "\n",
    "# Funktion zur Berechnung der Rotationsmatrix aus drei Punkten\n",
    "def create_coordinate_system_polyworks(p1, p2, p3):\n",
    "    \"\"\"\n",
    "    Erstellt eine orthogonale Rotationsmatrix aus drei Punkten wie in PolyWorks:\n",
    "    - X: p1 -> p2\n",
    "    - Y: p1 -> p3\n",
    "    - Z: X x Y (rechtshändiges Koordinatensystem)\n",
    "    \"\"\"\n",
    "\n",
    "    # Richtung X: p1 -> p2\n",
    "    x_dir = p2 - p1\n",
    "    x_axis = x_dir / np.linalg.norm(x_dir) # Normierung der X-Achse\n",
    "\n",
    "    # Richtung Y: p1 -> p3\n",
    "    y_dir = p3 - p1\n",
    "    # Noch nicht normalisieren, erst orthogonalisieren!\n",
    "\n",
    "    # Z-Achse: Kreuzprodukt von X und Y (rechtshändiges System), Z-Achse wird orthogonal zu den vorläufigen X- und Y-Achsen aufgespannt\n",
    "    z_axis = np.cross(x_axis, y_dir)\n",
    "    z_axis = z_axis / np.linalg.norm(z_axis) # Normierung der Z-Achse\n",
    "\n",
    "    # Orthogonalisierung der Y-Achse: Z x X, da X- und Y-Achse nicht orthogonal sind, wird Y orthogonal zu X und Z aufgespannt\n",
    "    y_axis = np.cross(z_axis, x_axis)\n",
    "    y_axis = y_axis / np.linalg.norm(y_axis) # Normierung der Y-Achse\n",
    "\n",
    "    # Rotationsmatrix: [X Y Z] als Spaltenvektoren\n",
    "    R = np.column_stack((x_axis, y_axis, z_axis))\n",
    "\n",
    "    return R"
   ]
  },
  {
   "cell_type": "markdown",
   "id": "4fa6bc08",
   "metadata": {},
   "source": [
    "Rohdaten laden und Variablen definieren"
   ]
  },
  {
   "cell_type": "code",
   "execution_count": 3,
   "id": "91d89a7d",
   "metadata": {},
   "outputs": [],
   "source": [
    "filename = '../data/Punkte_Koordinatensysteme_Berechnung.csv'\n",
    "df = pd.read_csv(filename, delimiter=';')\n",
    "points = df.to_numpy()\n",
    "points_coord = np.array(points[:,1:], dtype=float)\n",
    "points_identifiers = points[:,0]\n",
    "euler_angles_degrees = []\n",
    "rows, cols = 30, 5  \n",
    "rotation_matrix_all = pd.DataFrame(np.empty((rows, cols), dtype=object), columns = ['Gelenk', 'Achse', 'X', 'Y', 'Z'])\n",
    "counter = 0\n",
    "angles_between_systems = pd.DataFrame(np.empty((9, 4), dtype=object), columns = ['Gelenk', 'Winkel_x', 'Winkel_y', 'Winkel_z'])\n",
    "translation_between_systems = pd.DataFrame(np.empty((9, 4), dtype=object), columns = ['Gelenk', 'Translation_x', 'Translation_y', 'Translation_z'])"
   ]
  },
  {
   "cell_type": "markdown",
   "id": "2abbc070",
   "metadata": {},
   "source": [
    "Berechnung der Rotationsmatrizen zwischen den Gelenkkoordinatensystemen"
   ]
  },
  {
   "cell_type": "code",
   "execution_count": 4,
   "id": "3501bc2c",
   "metadata": {},
   "outputs": [],
   "source": [
    "# for-Loop zur Berechnung der Rotationsmatrizen\n",
    "for i in range(0, len(points), 3):\n",
    "    required_points = points_coord[i:i+3, :]\n",
    "    p1 = required_points[0, :]\n",
    "    p2 = required_points[1, :]\n",
    "    p3 = required_points[2, :]\n",
    "\n",
    "    # Rotationsmatrix aufbauen\n",
    "    R = create_coordinate_system_polyworks(p1, p2, p3)\n",
    "\n",
    "    # Rotation um 180° um die x-Achse (für Maschinenkkoordinatensystem)\n",
    "    R_180_x = np.array([\n",
    "        [1, 0, 0],\n",
    "        [0, -1, 0],\n",
    "        [0, 0, -1]\n",
    "    ])\n",
    "    # Rotation um -90° um die z-Achse (für Maschinenkoordinatensystem)\n",
    "    theta_deg = -90  # Winkel in Grad\n",
    "    theta_rad = np.radians(theta_deg) # Umwandlung in Radiant\n",
    "    R_z_neg_90 = np.array([[np.cos(theta_rad), -np.sin(theta_rad), 0],\n",
    "               [np.sin(theta_rad), np.cos(theta_rad), 0],\n",
    "               [0, 0, 1]]) # Rotationsmatrix um -90° um die z-Achse\n",
    "    \n",
    "    # Berechnung der Rotationsmatrix für die Sonderfälle des Maschinenkoordinatensystems (Maschine und Maschine_neu)\n",
    "    if i == 0:\n",
    "        R_total = R @ R_180_x\n",
    "        rotation_matrix_all.iloc[i,0] = 'Maschine'\n",
    "    elif i == 27:\n",
    "        R_total = R @ R_180_x\n",
    "        R_total = R_total @ R_z_neg_90 \n",
    "        rotation_matrix_all.iloc[i,0] = 'Maschine_neu'\n",
    "    else:\n",
    "        R_total = R\n",
    "        rotation_matrix_all.iloc[i,0] = 'Gelenk' + str(counter-1)\n",
    "    \n",
    "    # Zuordnung der Achsenbezeichnungen und der Rotationsmatrix zum DataFrame\n",
    "    rotation_matrix_all.iloc[i,1] = 'i'\n",
    "    rotation_matrix_all.iloc[i+1,1] = 'j'\n",
    "    rotation_matrix_all.iloc[i+2,1] = 'k'\n",
    "    rotation_matrix_all.iloc[i,2:5] = R_total[0,:]\n",
    "    rotation_matrix_all.iloc[i+1,2:5] = R_total[1,:]\n",
    "    rotation_matrix_all.iloc[i+2,2:5] = R_total[2,:]\n",
    "    \n",
    "    # Erhöhung des Zählers\n",
    "    counter = counter + 1\n",
    "    gelenk_identifier_1 = str(counter - 3)\n",
    "    gelenk_identifier_2 = str(counter - 2)\n",
    "\n",
    "    if i == 3:\n",
    "        gelenk_identifier_1 = 'Maschine'\n",
    "\n",
    "    # Berechnung der Euler-Winkel zwischen dem vorherigen und dem aktuellen Koordinatensystemen \n",
    "    if i > 0 and i < 27:\n",
    "        angles_between_systems.iloc[counter-2,0] = 'Gelenk_' + gelenk_identifier_1 + '/' + gelenk_identifier_2\n",
    "        angles_between_systems.iloc[counter-2,1:4]= calculate_euler_angles(R_previous,R_total,sequence=\"xyz\", degrees=False)\n",
    "        # Berechnung der Translation zwischen den Koordinatensystemen\n",
    "        translation_between_systems.iloc[counter-2,0] = 'Gelenk_' + gelenk_identifier_1 + '/' + gelenk_identifier_2\n",
    "        translation_between_systems.iloc[counter-2,1:4] = p1 - p1_previous\n",
    "    elif i == 27:\n",
    "        angles_between_systems.iloc[counter-2,0] = 'Maschine_neu/Gelenk_0'\n",
    "        angles_between_systems.iloc[counter-2,1:4]= calculate_euler_angles(R_total, rotation_matrix_all.iloc[0:3,2:5],sequence=\"xyz\", degrees=False)\n",
    "        # Berechnung der Translation zwischen den Koordinatensystemen\n",
    "        translation_between_systems.iloc[counter-2,0] = 'Maschine_neu/Gelenk_0'\n",
    "        translation_between_systems.iloc[counter-2,1:4] = p1 - points_coord[3, :]\n",
    "    # Speichern der aktuellen Rotationsmatrix und des Punktes für die nächste Iteration\n",
    "    R_previous = R_total\n",
    "    p1_previous = p1\n",
    "    Gelenk_previous = counter - 2\n",
    "\n",
    "# Export des DataFrames mit den Rotationsmatrizen in eine CSV-Datei\n",
    "rotation_matrix_all.to_csv('../results/Tabellen/Rotation_Matrix_Nullposition.csv', float_format='%.10f', sep=';', index=False)\n",
    "# Export des DataFrames mit den Translationen in eine CSV-Datei\n",
    "translation_between_systems.to_csv('../results/Tabellen/Translation_Nullposition.csv', float_format='%.10f', sep=';', index=False)\n",
    "# Export des DataFrames mit den Euler-Winkeln in eine CSV-Datei\n",
    "angles_between_systems.to_csv('../results/Tabellen/Euler_Winkel_Nullposition.csv', float_format='%.10f', sep=';', index=False)"
   ]
  },
  {
   "cell_type": "markdown",
   "id": "fdbbfb37",
   "metadata": {},
   "source": [
    "Verschiebung des Maschinenkoordinatensystems, so dass die z-Achse des Maschinenkoordinatensystems mit der Drehachse von Gelenk 0, die y-Achse mit der Maschinenlängsachse und die x-Achse mit der Maschinenquerachse übereinstimmt (bessere Interpretation der Koordinaten, bei der Vermessung)"
   ]
  },
  {
   "cell_type": "code",
   "execution_count": 5,
   "id": "55a9de86",
   "metadata": {},
   "outputs": [
    {
     "name": "stdout",
     "output_type": "stream",
     "text": [
      "[[0.9584121025300131 0.16756093881601536 -0.23101855662932147]\n",
      " [-0.19246142863793156 0.9771983440101739 -0.08967717073157565]\n",
      " [0.21072456005564663 0.1304098472005445 0.9688077371400813]]\n"
     ]
    }
   ],
   "source": [
    "# Ermittlung der relativen Rotationsmatrix zwischen Maschine und Maschine_neu\n",
    "R_machine_old = rotation_matrix_all.iloc[0:3,2:5].to_numpy()\n",
    "R_machine_new = rotation_matrix_all.iloc[27:30,2:5].to_numpy()\n",
    "R_machine_relative = np.dot(R_machine_old.T,R_machine_new) # relative Rotationsmatrix zwischen Maschine und Maschine_neu\n",
    "print(R_machine_relative)"
   ]
  }
 ],
 "metadata": {
  "kernelspec": {
   "display_name": "Python 3",
   "language": "python",
   "name": "python3"
  },
  "language_info": {
   "codemirror_mode": {
    "name": "ipython",
    "version": 3
   },
   "file_extension": ".py",
   "mimetype": "text/x-python",
   "name": "python",
   "nbconvert_exporter": "python",
   "pygments_lexer": "ipython3",
   "version": "3.11.9"
  }
 },
 "nbformat": 4,
 "nbformat_minor": 5
}
