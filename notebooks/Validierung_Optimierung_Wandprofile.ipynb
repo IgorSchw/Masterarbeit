{
 "cells": [
  {
   "cell_type": "markdown",
   "id": "3ea53d83",
   "metadata": {},
   "source": [
    "Importieren der benötigten Packages"
   ]
  },
  {
   "cell_type": "code",
   "execution_count": 7,
   "id": "4434b4ef",
   "metadata": {},
   "outputs": [],
   "source": [
    "import pandas as pd\n",
    "import plotly.graph_objects as go\n",
    "import numpy as np"
   ]
  },
  {
   "cell_type": "markdown",
   "id": "69feef2a",
   "metadata": {},
   "source": [
    "Laden der Daten"
   ]
  },
  {
   "cell_type": "code",
   "execution_count": 8,
   "id": "41486250",
   "metadata": {},
   "outputs": [],
   "source": [
    "# Laden der Daten aus der CSV-Datei\n",
    "data = pd.read_csv(\"../data/Validierung_Optimierung_Wandprofile.csv\", delimiter=\";\")"
   ]
  },
  {
   "cell_type": "markdown",
   "id": "1e73725b",
   "metadata": {},
   "source": [
    "3D-Vektorplot zur Darstellung der Lage der Punkte und deren Abweichungen vor und nach Optimierung"
   ]
  },
  {
   "cell_type": "code",
   "execution_count": null,
   "id": "9c8ec4cf",
   "metadata": {},
   "outputs": [
    {
     "name": "stdout",
     "output_type": "stream",
     "text": [
      "Maximale Abweichung der Norm: 48.51 mm\n"
     ]
    }
   ],
   "source": [
    "# Definieren der Abweichungen in mm\n",
    "scaled_errors_before = data[[\"delta_x\", \"delta_y\", \"delta_z\"]]\n",
    "\n",
    "sizeref_factor = 10  # Skalierfaktor für die Pfeile\n",
    "\n",
    "# Werte jeder Messreihe für den Plot definieren\n",
    "quivers_before = go.Cone(\n",
    "    x=data[\"x_Encoder\"],\n",
    "    y=data[\"y_Encoder\"],\n",
    "    z=data[\"z_Encoder\"],\n",
    "    u=scaled_errors_before.iloc[:, 0],\n",
    "    v=scaled_errors_before.iloc[:, 1],\n",
    "    w=scaled_errors_before.iloc[:, 2],\n",
    "    opacity= 1,\n",
    "    sizemode=\"raw\",\n",
    "    sizeref=sizeref_factor, \n",
    "    colorscale='Reds',\n",
    "    colorbar=dict(\n",
    "        title=\"Abweichung in mm\",\n",
    "        len=0.5,  # Length of the colorbar\n",
    "        x=0.85,   # Position on the x-axis\n",
    "        y=0.6    # Position on the y-axis\n",
    "    ),\n",
    "    name='Wandprofil'\n",
    ")\n",
    "\n",
    "# Messreihen dem Plot hinzufügen\n",
    "fig = go.Figure(data=quivers_before)\n",
    "\n",
    "# Layout anpassen\n",
    "fig.update_layout(\n",
    "    title='3D Vektorplot der Halbkreismessreihe und der Abweichungen jedes Messpunktes',\n",
    "    scene=dict(\n",
    "        xaxis_title='<i>x</i> in mm',\n",
    "        yaxis_title='<i>y</i> in mm',\n",
    "        zaxis_title='<i>z</i> in mm',\n",
    "    ),\n",
    "    font=dict(   \n",
    "        family=\"Latin Modern Sans\",\n",
    "        size =13,\n",
    "    ),\n",
    ")\n",
    "\n",
    "\n",
    "# Speichern des Plots in Form eines HTML files\n",
    "fig.write_html(\"../results/Diagramme/3D_Vektor_Plot_Validierung_Wandprofil.html\")\n",
    "\n",
    "max_norm = np.linalg.norm(scaled_errors_before, axis=1).max()\n",
    "print(f\"Maximale Abweichung der Norm: {max_norm:.2f} mm\")"
   ]
  }
 ],
 "metadata": {
  "kernelspec": {
   "display_name": "Python 3",
   "language": "python",
   "name": "python3"
  },
  "language_info": {
   "codemirror_mode": {
    "name": "ipython",
    "version": 3
   },
   "file_extension": ".py",
   "mimetype": "text/x-python",
   "name": "python",
   "nbconvert_exporter": "python",
   "pygments_lexer": "ipython3",
   "version": "3.11.9"
  }
 },
 "nbformat": 4,
 "nbformat_minor": 5
}
