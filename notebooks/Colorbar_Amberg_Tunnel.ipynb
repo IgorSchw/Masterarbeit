{
 "cells": [
  {
   "cell_type": "markdown",
   "id": "248ef210",
   "metadata": {},
   "source": [
    "Packages laden und Layout für Plots definieren"
   ]
  },
  {
   "cell_type": "code",
   "execution_count": 1,
   "id": "a36deb3d",
   "metadata": {},
   "outputs": [],
   "source": [
    "import matplotlib.pyplot as plt\n",
    "import matplotlib.colors as mcolors\n",
    "import numpy as np\n",
    "from matplotlib import rcParams\n",
    "\n",
    "layout_design ={\n",
    "    # Schriftart und LaTeX\n",
    "    \"text.usetex\": True,\n",
    "    \"font.family\": \"sans-serif\",\n",
    "    \"font.sans-serif\": [\"Latin Modern Sans\"],\n",
    "    \"font.size\": 20,              # Standard-Schriftgröße für Paper\n",
    "    \"axes.labelsize\": 20,          # Achsentitelgröße\n",
    "    \"axes.titlesize\": 20,          # Plottitelgröße\n",
    "    \"legend.fontsize\": 11,        # Legendentext\n",
    "    \"xtick.labelsize\": 20,          # Tick-Label-Größe X\n",
    "    \"ytick.labelsize\": 20,          # Tick-Label-Größe Y\n",
    "\n",
    "    # Plotgröße und Auflösung\n",
    "    \"figure.figsize\": (4, 6),      # etwa 15x10 cm für LaTeX-Spaltenbreite\n",
    "    \"figure.dpi\": 300,\n",
    "\n",
    "    # Ränder\n",
    "    \"savefig.bbox\": \"tight\",\n",
    "    \n",
    "    # Linien und Gitter\n",
    "    \"axes.grid\": True,             # Gitter standardmäßig an\n",
    "    \"grid.color\": \"gray\",\n",
    "    \"grid.linestyle\": \"--\",\n",
    "    \"grid.linewidth\": 0.5,\n",
    "    \"grid.alpha\": 0.5,            # Transparenz des Gitters\n",
    "    \n",
    "    # Achsenlinien\n",
    "    \"axes.edgecolor\": \"black\",\n",
    "    \"axes.linewidth\": 0.8,\n",
    "    \n",
    "    # Ticks\n",
    "    \"xtick.direction\": \"in\",       # Ticks nach innen\n",
    "    \"ytick.direction\": \"in\",\n",
    "    \"xtick.major.size\": 5,         # Ticklänge\n",
    "    \"ytick.major.size\": 5,\n",
    "    \"xtick.minor.size\": 2.5,       # Kleine Ticks\n",
    "    \"ytick.minor.size\": 2.5,\n",
    "    \"lines.markersize\": 2,         \n",
    "}\n",
    "\n",
    "rcParams.update(layout_design)"
   ]
  },
  {
   "cell_type": "markdown",
   "id": "cc985c07",
   "metadata": {},
   "source": [
    "Colorbar erstellen"
   ]
  },
  {
   "cell_type": "code",
   "execution_count": 2,
   "id": "0c814fd1",
   "metadata": {},
   "outputs": [],
   "source": [
    "# 1) Werte und zugehörige Farben definieren\n",
    "bounds = np.array([-200, -100, -50, -25,  25,  50, 100, 200])\n",
    "bounds_labels = np.array([-200, -100, -50, -25, 0,  25,  50, 100, 200])\n",
    "colors = [\n",
    "    \"#FF0000\",  # -100 000\n",
    "    \"#FF9999\",  #  -50 000\n",
    "    \"#FFFF00\",  #  -25 000\n",
    "    \"#99FF33\",  #       0\n",
    "    \"#00CC00\",  #   25 000\n",
    "    \"#0000FF\",  #   50 000\n",
    "    \"#00FFFF\",  #  100 000\n",
    "]\n",
    "\n",
    "# Erstelle eine kontinuierliche Colormap (256 Abstufungen)\n",
    "cmap_cont = mcolors.LinearSegmentedColormap.from_list(\"cont_map\", colors, N=256)\n",
    "\n",
    "# Normalize über den kompletten Wertebereich\n",
    "vmin, vmax = -200, 200\n",
    "norm = mcolors.Normalize(vmin=vmin, vmax=vmax)\n",
    "\n",
    "# Figure & Colorbar\n",
    "fig, ax = plt.subplots(figsize=(8, 0.5))\n",
    "sm = plt.cm.ScalarMappable(norm=norm, cmap=cmap_cont)\n",
    "sm.set_array([])  # nötig für Colorbar ohne Datenplot\n",
    "\n",
    "cb = plt.colorbar(sm, cax=ax, orientation=\"horizontal\", ticks=bounds_labels)\n",
    "cb.set_label(\"Differenz in mm\", labelpad=10)\n",
    "cb.ax.set_xticklabels([rf\"${int(t):,}$\".replace(\",\", \".\") for t in np.linspace(vmin, vmax, 9)])\n",
    "\n",
    "plt.savefig('../results/Diagramme/Nassversuche/Legende_Heatmap.pdf')\n",
    "plt.close()"
   ]
  }
 ],
 "metadata": {
  "kernelspec": {
   "display_name": "Python 3",
   "language": "python",
   "name": "python3"
  },
  "language_info": {
   "codemirror_mode": {
    "name": "ipython",
    "version": 3
   },
   "file_extension": ".py",
   "mimetype": "text/x-python",
   "name": "python",
   "nbconvert_exporter": "python",
   "pygments_lexer": "ipython3",
   "version": "3.11.9"
  }
 },
 "nbformat": 4,
 "nbformat_minor": 5
}
