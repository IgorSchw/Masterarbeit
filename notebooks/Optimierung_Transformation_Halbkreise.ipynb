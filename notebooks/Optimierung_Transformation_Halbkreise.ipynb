{
 "cells": [
  {
   "cell_type": "markdown",
   "id": "3ea53d83",
   "metadata": {},
   "source": [
    "Importieren der benötigten Packages"
   ]
  },
  {
   "cell_type": "code",
   "execution_count": 1,
   "id": "4434b4ef",
   "metadata": {},
   "outputs": [],
   "source": [
    "import pandas as pd\n",
    "import plotly.graph_objects as go"
   ]
  },
  {
   "cell_type": "markdown",
   "id": "69feef2a",
   "metadata": {},
   "source": [
    "Laden der Daten"
   ]
  },
  {
   "cell_type": "code",
   "execution_count": 2,
   "id": "41486250",
   "metadata": {},
   "outputs": [],
   "source": [
    "\n",
    "# Laden der Daten aus der CSV-Datei\n",
    "file_path = '../data/Optimierung_Transformation_Messreihe_Halbkreise.csv'\n",
    "data = pd.read_csv(file_path, delimiter=';', decimal='.')\n",
    "\n",
    "encoder_points_Halbkreise = data[['x_Encoder', 'y_Encoder', 'z_Encoder']].values\n",
    "delta_points_Halbkreise = data[['delta_x', 'delta_y', 'delta_z']].values\n"
   ]
  },
  {
   "cell_type": "markdown",
   "id": "1e73725b",
   "metadata": {},
   "source": [
    "3D-Vektorplot zur Darstellung der Lage der Punkte und deren Abweichungen vor und nach Optimierung"
   ]
  },
  {
   "cell_type": "code",
   "execution_count": 3,
   "id": "9c8ec4cf",
   "metadata": {},
   "outputs": [],
   "source": [
    "# Definieren der Abweichungen in mm\n",
    "scaled_errors_before = delta_points_Halbkreise \n",
    "\n",
    "sizeref_factor = 10  # Skalierfaktor für die Pfeile\n",
    "\n",
    "# Werte jeder Messreihe für den Plot definieren\n",
    "quivers_before = go.Cone(\n",
    "    x=encoder_points_Halbkreise[:, 0],\n",
    "    y=encoder_points_Halbkreise[:, 1],\n",
    "    z=encoder_points_Halbkreise[:, 2],\n",
    "    u=scaled_errors_before[:, 0],\n",
    "    v=scaled_errors_before[:, 1],\n",
    "    w=scaled_errors_before[:, 2],\n",
    "    opacity= 1,\n",
    "    sizemode=\"raw\",\n",
    "    sizeref=sizeref_factor, \n",
    "    colorscale='Reds',\n",
    "    name='Halbkreise',\n",
    "    legend= \"legend\",\n",
    "    colorbar=dict(\n",
    "        title=\"Abweichung<br>in mm \",\n",
    "        len=0.5,  # Länge des Colorbars\n",
    "        x=0.85,   # X-Position des Colorbars\n",
    "        y=0.75   # Y-Position des Colorbars\n",
    "    ),\n",
    "    )\n",
    "\n",
    "# Messreihen dem Plot hinzufügen\n",
    "fig = go.Figure(data=quivers_before)\n",
    "\n",
    "# Layout anpassen\n",
    "fig.update_layout(\n",
    "    title='3D Vektorplot der Halbkreismessreihe und der Abweichungen jedes Messpunktes',\n",
    "    scene=dict(\n",
    "        xaxis_title='<i>x</i> in mm',\n",
    "        yaxis_title='<i>y</i> in mm',\n",
    "        zaxis_title='<i>z</i> in mm',\n",
    "    ),\n",
    "    font=dict(   \n",
    "        family=\"Latin Modern Sans\",\n",
    "        size =13,\n",
    "    ),\n",
    ")\n",
    "\n",
    "\n",
    "# Speichern des Plots in Form eines HTML files\n",
    "fig.write_html(\"../results/Diagramme/Vorversuche/3D_Vektor_Plot_Optimierung_Halbkreise.html\")"
   ]
  }
 ],
 "metadata": {
  "kernelspec": {
   "display_name": "Python 3",
   "language": "python",
   "name": "python3"
  },
  "language_info": {
   "codemirror_mode": {
    "name": "ipython",
    "version": 3
   },
   "file_extension": ".py",
   "mimetype": "text/x-python",
   "name": "python",
   "nbconvert_exporter": "python",
   "pygments_lexer": "ipython3",
   "version": "3.11.9"
  }
 },
 "nbformat": 4,
 "nbformat_minor": 5
}
